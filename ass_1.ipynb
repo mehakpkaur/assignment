{
  "nbformat": 4,
  "nbformat_minor": 0,
  "metadata": {
    "colab": {
      "provenance": []
    },
    "kernelspec": {
      "name": "python3",
      "display_name": "Python 3"
    },
    "language_info": {
      "name": "python"
    }
  },
  "cells": [
    {
      "cell_type": "code",
      "execution_count": 26,
      "metadata": {
        "colab": {
          "base_uri": "https://localhost:8080/"
        },
        "id": "B388aEsdbHut",
        "outputId": "53497835-6482-479a-a97f-241470620169"
      },
      "outputs": [
        {
          "output_type": "stream",
          "name": "stdout",
          "text": [
            "MEHAKPREET KAUR\n",
            "MEHAKPREET KAUR\n",
            "MEHAKPREET KAUR\n"
          ]
        }
      ],
      "source": [
        "print('MEHAKPREET KAUR')\n",
        "print('MEHAKPREET KAUR')\n",
        "print('MEHAKPREET KAUR')"
      ]
    },
    {
      "cell_type": "code",
      "source": [
        "a=float(input('enter 1st number: '))\n",
        "b=float(input('enter 2nd number: '))\n",
        "c=float(input('enter 3rd number: '))\n",
        "sum = a + b + c\n",
        "print('the sum is',sum)\n"
      ],
      "metadata": {
        "colab": {
          "base_uri": "https://localhost:8080/"
        },
        "id": "jN3pJGKMbMDL",
        "outputId": "53f94fee-e71b-4332-e56c-2a52304c981b"
      },
      "execution_count": 27,
      "outputs": [
        {
          "output_type": "stream",
          "name": "stdout",
          "text": [
            "enter 1st number: 1\n",
            "enter 2nd number: 3\n",
            "enter 3rd number: 4\n",
            "the sum is 8.0\n"
          ]
        }
      ]
    },
    {
      "cell_type": "code",
      "source": [
        "a='Hello'\n",
        "b='World'\n",
        "c='!'\n",
        "output=(a+\" \"+b+\" \"+c)\n",
        "print(output)\n",
        "\n",
        ""
      ],
      "metadata": {
        "colab": {
          "base_uri": "https://localhost:8080/"
        },
        "id": "dvSfDPOFbPCn",
        "outputId": "ed1ff127-a3b7-4a64-b200-bec96a8c6000"
      },
      "execution_count": 28,
      "outputs": [
        {
          "output_type": "stream",
          "name": "stdout",
          "text": [
            "Hello World !\n"
          ]
        }
      ]
    },
    {
      "cell_type": "code",
      "source": [
        "for i in range(1,11):\n",
        "  print(7,\"*\", i, \"=\", 7*i)\n",
        ""
      ],
      "metadata": {
        "colab": {
          "base_uri": "https://localhost:8080/"
        },
        "id": "oFgBWLhubak9",
        "outputId": "f754c486-c06f-4abd-f9a8-9cd8415f455e"
      },
      "execution_count": 29,
      "outputs": [
        {
          "output_type": "stream",
          "name": "stdout",
          "text": [
            "7 * 1 = 7\n",
            "7 * 2 = 14\n",
            "7 * 3 = 21\n",
            "7 * 4 = 28\n",
            "7 * 5 = 35\n",
            "7 * 6 = 42\n",
            "7 * 7 = 49\n",
            "7 * 8 = 56\n",
            "7 * 9 = 63\n",
            "7 * 10 = 70\n"
          ]
        }
      ]
    },
    {
      "cell_type": "code",
      "source": [
        "for i in range(1,11):\n",
        "  print(5,\"*\",i, \"=\", 5*i)"
      ],
      "metadata": {
        "colab": {
          "base_uri": "https://localhost:8080/"
        },
        "id": "epT8IwjubgP5",
        "outputId": "e7e143ea-4337-4eb0-ff0b-30c0b09fe1a6"
      },
      "execution_count": 30,
      "outputs": [
        {
          "output_type": "stream",
          "name": "stdout",
          "text": [
            "5 * 1 = 5\n",
            "5 * 2 = 10\n",
            "5 * 3 = 15\n",
            "5 * 4 = 20\n",
            "5 * 5 = 25\n",
            "5 * 6 = 30\n",
            "5 * 7 = 35\n",
            "5 * 8 = 40\n",
            "5 * 9 = 45\n",
            "5 * 10 = 50\n"
          ]
        }
      ]
    },
    {
      "cell_type": "code",
      "source": [
        "n=int(input('enter the value of n:'))\n",
        "for i in range(1,11):\n",
        "  print(n,\"*\",i,\"=\",n*i)"
      ],
      "metadata": {
        "colab": {
          "base_uri": "https://localhost:8080/"
        },
        "id": "HfhLXr01biGF",
        "outputId": "e7cb84a1-105b-49fb-9324-8a1549684637"
      },
      "execution_count": 31,
      "outputs": [
        {
          "output_type": "stream",
          "name": "stdout",
          "text": [
            "enter the value of n:3\n",
            "3 * 1 = 3\n",
            "3 * 2 = 6\n",
            "3 * 3 = 9\n",
            "3 * 4 = 12\n",
            "3 * 5 = 15\n",
            "3 * 6 = 18\n",
            "3 * 7 = 21\n",
            "3 * 8 = 24\n",
            "3 * 9 = 27\n",
            "3 * 10 = 30\n"
          ]
        }
      ]
    },
    {
      "cell_type": "code",
      "source": [
        "n=int(input('enter a number:'))\n",
        "totalSum=0\n",
        "for i in range(1,n+1):\n",
        "  totalSum=totalSum+i\n",
        "print(totalSum)"
      ],
      "metadata": {
        "colab": {
          "base_uri": "https://localhost:8080/"
        },
        "id": "OXETIocrbkkC",
        "outputId": "65e3a5fa-6181-4aee-f162-470cdc6382fb"
      },
      "execution_count": 32,
      "outputs": [
        {
          "output_type": "stream",
          "name": "stdout",
          "text": [
            "enter a number:4\n",
            "10\n"
          ]
        }
      ]
    },
    {
      "cell_type": "code",
      "source": [
        "a = float(input('enter 1st number:'))\n",
        "b = float(input('enter 2nd number:'))\n",
        "c = float(input('enter 3rd number:'))\n",
        "res= max(a,b,c)\n",
        "print('the maximum of the three numbers is',res)"
      ],
      "metadata": {
        "colab": {
          "base_uri": "https://localhost:8080/"
        },
        "id": "REqRLNCxboTy",
        "outputId": "44a79d10-b6a4-4c86-f9b2-6f8b090a5957"
      },
      "execution_count": 33,
      "outputs": [
        {
          "output_type": "stream",
          "name": "stdout",
          "text": [
            "enter 1st number:5\n",
            "enter 2nd number:4\n",
            "enter 3rd number:1\n",
            "the maximum of the three numbers is 5.0\n"
          ]
        }
      ]
    },
    {
      "cell_type": "code",
      "source": [
        "n=int(input('enter the value of n:'))\n",
        "totalSum=0\n",
        "for i in range(1,n+1):\n",
        "  if(i%7==0 and i%9==0):\n",
        "    totalSum=totalSum+i\n",
        "print('sum is', totalSum)"
      ],
      "metadata": {
        "colab": {
          "base_uri": "https://localhost:8080/"
        },
        "id": "0KWXfnDpbtat",
        "outputId": "d66bae67-4fa2-46f2-8a21-05febeddf516"
      },
      "execution_count": 34,
      "outputs": [
        {
          "output_type": "stream",
          "name": "stdout",
          "text": [
            "enter the value of n:7\n",
            "sum is 0\n"
          ]
        }
      ]
    },
    {
      "cell_type": "code",
      "source": [
        "n = int(input(\"Enter the value of n: \"))\n",
        "def isPrime(n):\n",
        "    if n < 2:\n",
        "        return False\n",
        "    for i in range(2, n // 2 + 1):\n",
        "        if n % i == 0:\n",
        "            return False\n",
        "    return True\n",
        "totalSum = 0\n",
        "for k in range(2, n + 1):\n",
        "    if isPrime(k):\n",
        "        totalSum=totalSum+k\n",
        "\n",
        "print(f\"The sum of prime numbers from 2 to\",n,\"is:\", totalSum)\n",
        ""
      ],
      "metadata": {
        "colab": {
          "base_uri": "https://localhost:8080/"
        },
        "id": "H74w-r92cnww",
        "outputId": "09a6670f-711c-4e39-d7b2-40751b47a6ff"
      },
      "execution_count": 35,
      "outputs": [
        {
          "output_type": "stream",
          "name": "stdout",
          "text": [
            "Enter the value of n: 3\n",
            "The sum of prime numbers from 2 to 3 is: 5\n"
          ]
        }
      ]
    },
    {
      "cell_type": "code",
      "source": [
        "def oddSum(n):\n",
        "    totalSum=0\n",
        "    for i in range(1,n+1):\n",
        "      if i%2!=0:\n",
        "\n",
        "       totalSum=totalSum+i\n",
        "    return totalSum\n",
        "\n",
        "print(oddSum(5))"
      ],
      "metadata": {
        "colab": {
          "base_uri": "https://localhost:8080/"
        },
        "id": "X1S3oznKcqNi",
        "outputId": "f0c89d06-a19d-40ac-8ea2-abb92343f4ae"
      },
      "execution_count": 36,
      "outputs": [
        {
          "output_type": "stream",
          "name": "stdout",
          "text": [
            "9\n"
          ]
        }
      ]
    },
    {
      "cell_type": "code",
      "source": [
        "def isPrime(n):\n",
        "    if n < 2:\n",
        "        return False\n",
        "    for i in range(2, n // 2 + 1):\n",
        "        if n % i == 0:\n",
        "            return False\n",
        "    return True\n",
        "\n",
        "\n",
        "n = int(input(\"Enter the value of n: \"))\n",
        "\n",
        "\n",
        "totalSum = 0\n",
        "for k in range(2, n + 1):\n",
        "    if isPrime(k):\n",
        "        totalSum += k\n",
        "\n",
        "\n",
        "print(f\"The sum of all prime numbers from 1 to\", n, \"is:\", totalSum)\n",
        "\n",
        "\n",
        "print(isPrime(3))"
      ],
      "metadata": {
        "colab": {
          "base_uri": "https://localhost:8080/"
        },
        "id": "YoH75tuhcrpT",
        "outputId": "2d4fb642-d3f6-43f4-e15f-246f555bf92a"
      },
      "execution_count": 37,
      "outputs": [
        {
          "output_type": "stream",
          "name": "stdout",
          "text": [
            "Enter the value of n: 4\n",
            "The sum of all prime numbers from 1 to 4 is: 5\n",
            "True\n"
          ]
        }
      ]
    },
    {
      "cell_type": "code",
      "source": [],
      "metadata": {
        "id": "Uxi1JBw_cuq6"
      },
      "execution_count": 37,
      "outputs": []
    }
  ]
}