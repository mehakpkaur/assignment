{
  "nbformat": 4,
  "nbformat_minor": 0,
  "metadata": {
    "colab": {
      "provenance": []
    },
    "kernelspec": {
      "name": "python3",
      "display_name": "Python 3"
    },
    "language_info": {
      "name": "python"
    }
  },
  "cells": [
    {
      "cell_type": "code",
      "execution_count": 5,
      "metadata": {
        "colab": {
          "base_uri": "https://localhost:8080/"
        },
        "id": "o2zlOtxCcYhe",
        "outputId": "616f6991-f030-4136-b893-4a0f06a09a93"
      },
      "outputs": [
        {
          "output_type": "stream",
          "name": "stdout",
          "text": [
            "books have always been a magical escape for me. whenever life feels overwhelming, i turn to a good novel to find peace. i enjoy reading different genres, but fantasy and mystery are my favorites. the characters and stories transport me to different worlds and spark my imagination. reading not only improves my vocabulary but also teaches me valuable life lessons.\n",
            "books have always been a magical escape for me whenever life feels overwhelming i turn to a good novel to find peace i enjoy reading different genres but fantasy and mystery are my favorites the characters and stories transport me to different worlds and spark my imagination reading not only improves my vocabulary but also teaches me valuable life lessons\n"
          ]
        }
      ],
      "source": [
        "#Q1\n",
        "\n",
        "import re\n",
        "para = 'Books have always been a magical escape for me. Whenever life feels overwhelming, I turn to a good novel to find peace. I enjoy reading different genres, but fantasy and mystery are my favorites. The characters and stories transport me to different worlds and spark my imagination. Reading not only improves my vocabulary but also teaches me valuable life lessons.'\n",
        "\n",
        "text_lower = para.lower()\n",
        "print(text_lower)\n",
        "\n",
        "remove_punc = re.sub(r'[^\\w\\s]','',text_lower)\n",
        "print(remove_punc)\n",
        "\n"
      ]
    },
    {
      "cell_type": "code",
      "source": [
        "!pip install nltk\n",
        "import nltk\n",
        "nltk.download('punkt')\n",
        "nltk.download('punkt_tab')\n",
        "from nltk.tokenize import word_tokenize\n",
        "from nltk.tokenize import sent_tokenize\n",
        "#2\n",
        "tokens = word_tokenize(para)\n",
        "print(tokens)\n",
        "\n",
        "sentences = sent_tokenize(para)\n",
        "print(sentences)\n"
      ],
      "metadata": {
        "colab": {
          "base_uri": "https://localhost:8080/"
        },
        "id": "7HmXM9dbgOc4",
        "outputId": "a965bdbb-5277-4730-b4e4-745c52102fdb"
      },
      "execution_count": 6,
      "outputs": [
        {
          "output_type": "stream",
          "name": "stdout",
          "text": [
            "Requirement already satisfied: nltk in /usr/local/lib/python3.11/dist-packages (3.9.1)\n",
            "Requirement already satisfied: click in /usr/local/lib/python3.11/dist-packages (from nltk) (8.1.8)\n",
            "Requirement already satisfied: joblib in /usr/local/lib/python3.11/dist-packages (from nltk) (1.4.2)\n",
            "Requirement already satisfied: regex>=2021.8.3 in /usr/local/lib/python3.11/dist-packages (from nltk) (2024.11.6)\n",
            "Requirement already satisfied: tqdm in /usr/local/lib/python3.11/dist-packages (from nltk) (4.67.1)\n"
          ]
        },
        {
          "output_type": "stream",
          "name": "stderr",
          "text": [
            "[nltk_data] Downloading package punkt to /root/nltk_data...\n",
            "[nltk_data]   Unzipping tokenizers/punkt.zip.\n",
            "[nltk_data] Downloading package punkt_tab to /root/nltk_data...\n",
            "[nltk_data]   Unzipping tokenizers/punkt_tab.zip.\n"
          ]
        },
        {
          "output_type": "stream",
          "name": "stdout",
          "text": [
            "['Books', 'have', 'always', 'been', 'a', 'magical', 'escape', 'for', 'me', '.', 'Whenever', 'life', 'feels', 'overwhelming', ',', 'I', 'turn', 'to', 'a', 'good', 'novel', 'to', 'find', 'peace', '.', 'I', 'enjoy', 'reading', 'different', 'genres', ',', 'but', 'fantasy', 'and', 'mystery', 'are', 'my', 'favorites', '.', 'The', 'characters', 'and', 'stories', 'transport', 'me', 'to', 'different', 'worlds', 'and', 'spark', 'my', 'imagination', '.', 'Reading', 'not', 'only', 'improves', 'my', 'vocabulary', 'but', 'also', 'teaches', 'me', 'valuable', 'life', 'lessons', '.']\n",
            "['Books have always been a magical escape for me.', 'Whenever life feels overwhelming, I turn to a good novel to find peace.', 'I enjoy reading different genres, but fantasy and mystery are my favorites.', 'The characters and stories transport me to different worlds and spark my imagination.', 'Reading not only improves my vocabulary but also teaches me valuable life lessons.']\n"
          ]
        }
      ]
    },
    {
      "cell_type": "code",
      "source": [
        "#3\n",
        "split_words = para.split('.')\n",
        "print(split_words)\n",
        "print(tokens)\n"
      ],
      "metadata": {
        "colab": {
          "base_uri": "https://localhost:8080/"
        },
        "id": "iPytsx9NMt9W",
        "outputId": "3b04646a-2b9b-4532-b16a-5a91a86a36c0"
      },
      "execution_count": 7,
      "outputs": [
        {
          "output_type": "stream",
          "name": "stdout",
          "text": [
            "['Books have always been a magical escape for me', ' Whenever life feels overwhelming, I turn to a good novel to find peace', ' I enjoy reading different genres, but fantasy and mystery are my favorites', ' The characters and stories transport me to different worlds and spark my imagination', ' Reading not only improves my vocabulary but also teaches me valuable life lessons', '']\n",
            "['Books', 'have', 'always', 'been', 'a', 'magical', 'escape', 'for', 'me', '.', 'Whenever', 'life', 'feels', 'overwhelming', ',', 'I', 'turn', 'to', 'a', 'good', 'novel', 'to', 'find', 'peace', '.', 'I', 'enjoy', 'reading', 'different', 'genres', ',', 'but', 'fantasy', 'and', 'mystery', 'are', 'my', 'favorites', '.', 'The', 'characters', 'and', 'stories', 'transport', 'me', 'to', 'different', 'worlds', 'and', 'spark', 'my', 'imagination', '.', 'Reading', 'not', 'only', 'improves', 'my', 'vocabulary', 'but', 'also', 'teaches', 'me', 'valuable', 'life', 'lessons', '.']\n"
          ]
        }
      ]
    },
    {
      "cell_type": "code",
      "source": [
        "#4\n",
        "nltk.download('stopwords')\n",
        "from nltk.corpus import stopwords\n",
        "stop_words = set(stopwords.words('english'))\n",
        "print(stop_words)\n",
        "filtered_words = [word for word in tokens if word.lower() not in stop_words]\n",
        "print(filtered_words)"
      ],
      "metadata": {
        "colab": {
          "base_uri": "https://localhost:8080/"
        },
        "id": "wRA1HfY4NHck",
        "outputId": "c81e915e-dabe-40c6-d558-333c82f05d48"
      },
      "execution_count": 8,
      "outputs": [
        {
          "output_type": "stream",
          "name": "stdout",
          "text": [
            "{'if', 'needn', 'again', \"we'd\", \"i'm\", \"wouldn't\", 'about', \"didn't\", 'until', 'did', 'myself', 'once', 'y', 'which', 'as', 'wasn', 'he', \"you've\", 'should', 'from', 'down', 'how', 'mightn', 'during', 'their', 'can', \"isn't\", 'after', 'my', 'his', 'of', 'shouldn', \"he's\", 'o', 'her', 'your', 'other', \"he'll\", 'they', 'here', 'ma', \"i've\", 'be', 'before', 'herself', 'hers', 'not', \"won't\", 'against', \"it'd\", 'there', 'when', \"you'd\", 'a', 'hadn', 'than', 'yourselves', 'nor', 'where', 'such', 'under', 'd', 'to', 'but', 'below', 'over', 'have', 'between', 'had', 'having', 'so', 'by', 'up', 'all', \"couldn't\", \"don't\", 'ourselves', 'himself', 'these', 'will', \"they've\", \"needn't\", 'hasn', 'no', 've', 'theirs', \"weren't\", 'very', 'aren', 'we', 'some', 'll', \"shan't\", 'itself', 'why', 'for', 'on', 'too', \"i'd\", 'the', 'me', \"you'll\", 'were', \"i'll\", \"haven't\", 'through', 'are', 'don', 'this', 'him', 'further', 'our', 'm', \"we'll\", 'an', 'out', 't', 'at', \"wasn't\", 'its', 'am', 'she', 'doesn', 'didn', 'both', 'haven', 'ours', \"she's\", 'ain', 'then', \"we're\", 'whom', 'own', 'wouldn', 'yours', 'you', 'only', 'does', 'any', \"mustn't\", 'do', 's', 'off', 'with', \"hadn't\", 'most', \"they'll\", \"aren't\", \"she'll\", \"mightn't\", 'in', 'isn', 'shan', \"they'd\", 'who', \"should've\", \"it's\", 'doing', 'or', \"we've\", 'while', 'that', 'them', 'being', 'more', 'just', 'is', 'same', 'weren', \"shouldn't\", 'it', \"that'll\", 'above', \"they're\", 'won', 'yourself', 'themselves', 'because', 'been', 'each', \"he'd\", 'mustn', 'now', 'couldn', \"she'd\", 'was', \"doesn't\", \"it'll\", 'those', \"hasn't\", 'has', 're', 'into', \"you're\", 'i', 'and', 'what', 'few'}\n",
            "['Books', 'always', 'magical', 'escape', '.', 'Whenever', 'life', 'feels', 'overwhelming', ',', 'turn', 'good', 'novel', 'find', 'peace', '.', 'enjoy', 'reading', 'different', 'genres', ',', 'fantasy', 'mystery', 'favorites', '.', 'characters', 'stories', 'transport', 'different', 'worlds', 'spark', 'imagination', '.', 'Reading', 'improves', 'vocabulary', 'also', 'teaches', 'valuable', 'life', 'lessons', '.']\n"
          ]
        },
        {
          "output_type": "stream",
          "name": "stderr",
          "text": [
            "[nltk_data] Downloading package stopwords to /root/nltk_data...\n",
            "[nltk_data]   Unzipping corpora/stopwords.zip.\n"
          ]
        }
      ]
    },
    {
      "cell_type": "code",
      "source": [
        "#5\n",
        "from nltk.probability import FreqDist\n",
        "freq_dist = FreqDist(filtered_words)\n",
        "print(freq_dist)\n",
        "for word, frequency in freq_dist.items():\n",
        "    print(f\"{word}: {frequency}\")"
      ],
      "metadata": {
        "colab": {
          "base_uri": "https://localhost:8080/"
        },
        "id": "iVRkROr9Y9VM",
        "outputId": "a2687ece-1783-40bb-dce5-9e2cabfa26fc"
      },
      "execution_count": 9,
      "outputs": [
        {
          "output_type": "stream",
          "name": "stdout",
          "text": [
            "<FreqDist with 35 samples and 42 outcomes>\n",
            "Books: 1\n",
            "always: 1\n",
            "magical: 1\n",
            "escape: 1\n",
            ".: 5\n",
            "Whenever: 1\n",
            "life: 2\n",
            "feels: 1\n",
            "overwhelming: 1\n",
            ",: 2\n",
            "turn: 1\n",
            "good: 1\n",
            "novel: 1\n",
            "find: 1\n",
            "peace: 1\n",
            "enjoy: 1\n",
            "reading: 1\n",
            "different: 2\n",
            "genres: 1\n",
            "fantasy: 1\n",
            "mystery: 1\n",
            "favorites: 1\n",
            "characters: 1\n",
            "stories: 1\n",
            "transport: 1\n",
            "worlds: 1\n",
            "spark: 1\n",
            "imagination: 1\n",
            "Reading: 1\n",
            "improves: 1\n",
            "vocabulary: 1\n",
            "also: 1\n",
            "teaches: 1\n",
            "valuable: 1\n",
            "lessons: 1\n"
          ]
        }
      ]
    },
    {
      "cell_type": "code",
      "source": [
        "#Q2\n",
        "#1\n",
        "import re\n",
        "para = 'Books have always been a magical escape for me. Whenever life feels overwhelming, I turn to a good novel to find peace. I enjoy reading different genres, but fantasy and mystery are my favorites. The characters and stories transport me to different worlds and spark my imagination. Reading not only improves my vocabulary but also teaches me valuable life lessons.'\n",
        "\n",
        "alphabets = re.findall(r'\\b[a-zA-z]+\\b', para)\n",
        "print(alphabets)"
      ],
      "metadata": {
        "colab": {
          "base_uri": "https://localhost:8080/"
        },
        "id": "71XGdm6dpnjH",
        "outputId": "4bd7160a-df6e-4dbb-d922-0802ecf30308"
      },
      "execution_count": 10,
      "outputs": [
        {
          "output_type": "stream",
          "name": "stdout",
          "text": [
            "['Books', 'have', 'always', 'been', 'a', 'magical', 'escape', 'for', 'me', 'Whenever', 'life', 'feels', 'overwhelming', 'I', 'turn', 'to', 'a', 'good', 'novel', 'to', 'find', 'peace', 'I', 'enjoy', 'reading', 'different', 'genres', 'but', 'fantasy', 'and', 'mystery', 'are', 'my', 'favorites', 'The', 'characters', 'and', 'stories', 'transport', 'me', 'to', 'different', 'worlds', 'and', 'spark', 'my', 'imagination', 'Reading', 'not', 'only', 'improves', 'my', 'vocabulary', 'but', 'also', 'teaches', 'me', 'valuable', 'life', 'lessons']\n"
          ]
        }
      ]
    },
    {
      "cell_type": "code",
      "source": [
        "import nltk\n",
        "nltk.download('stopwords')\n",
        "from nltk.corpus import stopwords\n",
        "stop_words = set(stopwords.words('english'))\n",
        "print(stop_words)\n",
        "filtered_words = [word for word in alphabets if word not in stop_words]\n",
        "print(filtered_words)\n"
      ],
      "metadata": {
        "colab": {
          "base_uri": "https://localhost:8080/"
        },
        "id": "-rhEUihvxkhP",
        "outputId": "f5057a77-5dff-4e0c-9cbf-cceaa0ff4802"
      },
      "execution_count": 11,
      "outputs": [
        {
          "output_type": "stream",
          "name": "stdout",
          "text": [
            "{'if', 'needn', 'again', \"we'd\", \"i'm\", \"wouldn't\", 'about', \"didn't\", 'until', 'did', 'myself', 'once', 'y', 'which', 'as', 'wasn', 'he', \"you've\", 'should', 'from', 'down', 'how', 'mightn', 'during', 'their', 'can', \"isn't\", 'after', 'my', 'his', 'of', 'shouldn', \"he's\", 'o', 'her', 'your', 'other', \"he'll\", 'they', 'here', 'ma', \"i've\", 'be', 'before', 'herself', 'hers', 'not', \"won't\", 'against', \"it'd\", 'there', 'when', \"you'd\", 'a', 'hadn', 'than', 'yourselves', 'nor', 'where', 'such', 'under', 'd', 'to', 'but', 'below', 'over', 'have', 'between', 'had', 'having', 'so', 'by', 'up', 'all', \"couldn't\", \"don't\", 'ourselves', 'himself', 'these', 'will', \"they've\", \"needn't\", 'hasn', 'no', 've', 'theirs', \"weren't\", 'very', 'aren', 'we', 'some', 'll', \"shan't\", 'itself', 'why', 'for', 'on', 'too', \"i'd\", 'the', 'me', \"you'll\", 'were', \"i'll\", \"haven't\", 'through', 'are', 'don', 'this', 'him', 'further', 'our', 'm', \"we'll\", 'an', 'out', 't', 'at', \"wasn't\", 'its', 'am', 'she', 'doesn', 'didn', 'both', 'haven', 'ours', \"she's\", 'ain', 'then', \"we're\", 'whom', 'own', 'wouldn', 'yours', 'you', 'only', 'does', 'any', \"mustn't\", 'do', 's', 'off', 'with', \"hadn't\", 'most', \"they'll\", \"aren't\", \"she'll\", \"mightn't\", 'in', 'isn', 'shan', \"they'd\", 'who', \"should've\", \"it's\", 'doing', 'or', \"we've\", 'while', 'that', 'them', 'being', 'more', 'just', 'is', 'same', 'weren', \"shouldn't\", 'it', \"that'll\", 'above', \"they're\", 'won', 'yourself', 'themselves', 'because', 'been', 'each', \"he'd\", 'mustn', 'now', 'couldn', \"she'd\", 'was', \"doesn't\", \"it'll\", 'those', \"hasn't\", 'has', 're', 'into', \"you're\", 'i', 'and', 'what', 'few'}\n",
            "['Books', 'always', 'magical', 'escape', 'Whenever', 'life', 'feels', 'overwhelming', 'I', 'turn', 'good', 'novel', 'find', 'peace', 'I', 'enjoy', 'reading', 'different', 'genres', 'fantasy', 'mystery', 'favorites', 'The', 'characters', 'stories', 'transport', 'different', 'worlds', 'spark', 'imagination', 'Reading', 'improves', 'vocabulary', 'also', 'teaches', 'valuable', 'life', 'lessons']\n"
          ]
        },
        {
          "output_type": "stream",
          "name": "stderr",
          "text": [
            "[nltk_data] Downloading package stopwords to /root/nltk_data...\n",
            "[nltk_data]   Package stopwords is already up-to-date!\n"
          ]
        }
      ]
    },
    {
      "cell_type": "code",
      "source": [
        "from nltk.stem import PorterStemmer\n",
        "\n",
        "#tokenized = word_tokenize(para)\n",
        "#print(tokenized)\n",
        "ps = PorterStemmer()\n",
        "for w in filtered_words :\n",
        "  print(w, '->', ps.stem(w))"
      ],
      "metadata": {
        "colab": {
          "base_uri": "https://localhost:8080/"
        },
        "id": "WdcUMH-xyX6w",
        "outputId": "491e3f21-bdaf-4ad4-e23f-cc62e4322d7f"
      },
      "execution_count": 12,
      "outputs": [
        {
          "output_type": "stream",
          "name": "stdout",
          "text": [
            "Books -> book\n",
            "always -> alway\n",
            "magical -> magic\n",
            "escape -> escap\n",
            "Whenever -> whenev\n",
            "life -> life\n",
            "feels -> feel\n",
            "overwhelming -> overwhelm\n",
            "I -> i\n",
            "turn -> turn\n",
            "good -> good\n",
            "novel -> novel\n",
            "find -> find\n",
            "peace -> peac\n",
            "I -> i\n",
            "enjoy -> enjoy\n",
            "reading -> read\n",
            "different -> differ\n",
            "genres -> genr\n",
            "fantasy -> fantasi\n",
            "mystery -> mysteri\n",
            "favorites -> favorit\n",
            "The -> the\n",
            "characters -> charact\n",
            "stories -> stori\n",
            "transport -> transport\n",
            "different -> differ\n",
            "worlds -> world\n",
            "spark -> spark\n",
            "imagination -> imagin\n",
            "Reading -> read\n",
            "improves -> improv\n",
            "vocabulary -> vocabulari\n",
            "also -> also\n",
            "teaches -> teach\n",
            "valuable -> valuabl\n",
            "life -> life\n",
            "lessons -> lesson\n"
          ]
        }
      ]
    },
    {
      "cell_type": "code",
      "source": [
        "from nltk.stem import WordNetLemmatizer\n",
        "nltk.download('wordnet')\n",
        "lemmatizer = WordNetLemmatizer()\n",
        "lemmatized = [lemmatizer.lemmatize(word) for word in filtered_words]\n",
        "print(lemmatized)\n"
      ],
      "metadata": {
        "colab": {
          "base_uri": "https://localhost:8080/"
        },
        "id": "VG_0gXQ_LqyC",
        "outputId": "c4cd31c5-02b7-4af3-896e-a4482428a11b"
      },
      "execution_count": 13,
      "outputs": [
        {
          "output_type": "stream",
          "name": "stderr",
          "text": [
            "[nltk_data] Downloading package wordnet to /root/nltk_data...\n"
          ]
        },
        {
          "output_type": "stream",
          "name": "stdout",
          "text": [
            "['Books', 'always', 'magical', 'escape', 'Whenever', 'life', 'feel', 'overwhelming', 'I', 'turn', 'good', 'novel', 'find', 'peace', 'I', 'enjoy', 'reading', 'different', 'genre', 'fantasy', 'mystery', 'favorite', 'The', 'character', 'story', 'transport', 'different', 'world', 'spark', 'imagination', 'Reading', 'improves', 'vocabulary', 'also', 'teach', 'valuable', 'life', 'lesson']\n"
          ]
        }
      ]
    },
    {
      "cell_type": "code",
      "source": [
        "stemmed_words = [ps.stem(w) for w in filtered_words]\n",
        "lemmatized_words = [lemmatizer.lemmatize(word) for word in filtered_words]\n",
        "\n",
        "print(\"\\nComparison of Stemming vs Lemmatization:\\n\")\n",
        "for original, stemmed, lemma in zip(filtered_words, stemmed_words, lemmatized_words):\n",
        "    print(f\"{original:15} → Stemmed: {stemmed:15} | Lemmatized: {lemma}\")"
      ],
      "metadata": {
        "colab": {
          "base_uri": "https://localhost:8080/"
        },
        "id": "R6eeb1PnM5Eq",
        "outputId": "da8325fa-a1b8-484f-cd83-5a4dd048e6fa"
      },
      "execution_count": 14,
      "outputs": [
        {
          "output_type": "stream",
          "name": "stdout",
          "text": [
            "\n",
            "Comparison of Stemming vs Lemmatization:\n",
            "\n",
            "Books           → Stemmed: book            | Lemmatized: Books\n",
            "always          → Stemmed: alway           | Lemmatized: always\n",
            "magical         → Stemmed: magic           | Lemmatized: magical\n",
            "escape          → Stemmed: escap           | Lemmatized: escape\n",
            "Whenever        → Stemmed: whenev          | Lemmatized: Whenever\n",
            "life            → Stemmed: life            | Lemmatized: life\n",
            "feels           → Stemmed: feel            | Lemmatized: feel\n",
            "overwhelming    → Stemmed: overwhelm       | Lemmatized: overwhelming\n",
            "I               → Stemmed: i               | Lemmatized: I\n",
            "turn            → Stemmed: turn            | Lemmatized: turn\n",
            "good            → Stemmed: good            | Lemmatized: good\n",
            "novel           → Stemmed: novel           | Lemmatized: novel\n",
            "find            → Stemmed: find            | Lemmatized: find\n",
            "peace           → Stemmed: peac            | Lemmatized: peace\n",
            "I               → Stemmed: i               | Lemmatized: I\n",
            "enjoy           → Stemmed: enjoy           | Lemmatized: enjoy\n",
            "reading         → Stemmed: read            | Lemmatized: reading\n",
            "different       → Stemmed: differ          | Lemmatized: different\n",
            "genres          → Stemmed: genr            | Lemmatized: genre\n",
            "fantasy         → Stemmed: fantasi         | Lemmatized: fantasy\n",
            "mystery         → Stemmed: mysteri         | Lemmatized: mystery\n",
            "favorites       → Stemmed: favorit         | Lemmatized: favorite\n",
            "The             → Stemmed: the             | Lemmatized: The\n",
            "characters      → Stemmed: charact         | Lemmatized: character\n",
            "stories         → Stemmed: stori           | Lemmatized: story\n",
            "transport       → Stemmed: transport       | Lemmatized: transport\n",
            "different       → Stemmed: differ          | Lemmatized: different\n",
            "worlds          → Stemmed: world           | Lemmatized: world\n",
            "spark           → Stemmed: spark           | Lemmatized: spark\n",
            "imagination     → Stemmed: imagin          | Lemmatized: imagination\n",
            "Reading         → Stemmed: read            | Lemmatized: Reading\n",
            "improves        → Stemmed: improv          | Lemmatized: improves\n",
            "vocabulary      → Stemmed: vocabulari      | Lemmatized: vocabulary\n",
            "also            → Stemmed: also            | Lemmatized: also\n",
            "teaches         → Stemmed: teach           | Lemmatized: teach\n",
            "valuable        → Stemmed: valuabl         | Lemmatized: valuable\n",
            "life            → Stemmed: life            | Lemmatized: life\n",
            "lessons         → Stemmed: lesson          | Lemmatized: lesson\n"
          ]
        }
      ]
    },
    {
      "cell_type": "code",
      "source": [
        "#Q3\n",
        "#1\n",
        "from sklearn.feature_extraction.text import CountVectorizer\n",
        "\n",
        "text1 = \"Apple launches new iPhone with improved camera and battery life.\"\n",
        "text2 = \"Samsung unveils Galaxy with AI features and enhanced performance.\"\n",
        "text3 = \"Google introduces new tools for developers in its annual I/O event.\"\n",
        "texts = [text1, text2, text3]\n",
        "\n",
        "vectorizer = CountVectorizer()\n",
        "bow = vectorizer.fit_transform(texts)\n",
        "print(vectorizer.get_feature_names_out())\n",
        "print(bow.toarray())\n"
      ],
      "metadata": {
        "colab": {
          "base_uri": "https://localhost:8080/"
        },
        "id": "fj6DtZmBO9C2",
        "outputId": "2d850934-ae36-47b2-9e04-7081fa3acba0"
      },
      "execution_count": 15,
      "outputs": [
        {
          "output_type": "stream",
          "name": "stdout",
          "text": [
            "['ai' 'and' 'annual' 'apple' 'battery' 'camera' 'developers' 'enhanced'\n",
            " 'event' 'features' 'for' 'galaxy' 'google' 'improved' 'in' 'introduces'\n",
            " 'iphone' 'its' 'launches' 'life' 'new' 'performance' 'samsung' 'tools'\n",
            " 'unveils' 'with']\n",
            "[[0 1 0 1 1 1 0 0 0 0 0 0 0 1 0 0 1 0 1 1 1 0 0 0 0 1]\n",
            " [1 1 0 0 0 0 0 1 0 1 0 1 0 0 0 0 0 0 0 0 0 1 1 0 1 1]\n",
            " [0 0 1 0 0 0 1 0 1 0 1 0 1 0 1 1 0 1 0 0 1 0 0 1 0 0]]\n"
          ]
        }
      ]
    },
    {
      "cell_type": "code",
      "source": [
        "#2\n",
        "from sklearn.feature_extraction.text import TfidfVectorizer\n",
        "tfidf = TfidfVectorizer()\n",
        "X = tfidf.fit_transform(texts)\n",
        "print(tfidf.get_feature_names_out())\n",
        "print(X.toarray())"
      ],
      "metadata": {
        "colab": {
          "base_uri": "https://localhost:8080/"
        },
        "id": "50G8zffZQjSj",
        "outputId": "229d8d1d-dbb8-4732-e6fd-4b67a19f4c5c"
      },
      "execution_count": 16,
      "outputs": [
        {
          "output_type": "stream",
          "name": "stdout",
          "text": [
            "['ai' 'and' 'annual' 'apple' 'battery' 'camera' 'developers' 'enhanced'\n",
            " 'event' 'features' 'for' 'galaxy' 'google' 'improved' 'in' 'introduces'\n",
            " 'iphone' 'its' 'launches' 'life' 'new' 'performance' 'samsung' 'tools'\n",
            " 'unveils' 'with']\n",
            "[[0.         0.25732238 0.         0.338348   0.338348   0.338348\n",
            "  0.         0.         0.         0.         0.         0.\n",
            "  0.         0.338348   0.         0.         0.338348   0.\n",
            "  0.338348   0.338348   0.25732238 0.         0.         0.\n",
            "  0.         0.25732238]\n",
            " [0.35013871 0.26628951 0.         0.         0.         0.\n",
            "  0.         0.35013871 0.         0.35013871 0.         0.35013871\n",
            "  0.         0.         0.         0.         0.         0.\n",
            "  0.         0.         0.         0.35013871 0.35013871 0.\n",
            "  0.35013871 0.26628951]\n",
            " [0.         0.         0.32311233 0.         0.         0.\n",
            "  0.32311233 0.         0.32311233 0.         0.32311233 0.\n",
            "  0.32311233 0.         0.32311233 0.32311233 0.         0.32311233\n",
            "  0.         0.         0.24573525 0.         0.         0.32311233\n",
            "  0.         0.        ]]\n"
          ]
        }
      ]
    },
    {
      "cell_type": "code",
      "source": [
        "#3\n",
        "import numpy as np\n",
        "\n",
        "feature_names = tfidf.get_feature_names_out()\n",
        "\n",
        "print(\"\\n Top 3 Keywords by Tf-IDF for each text\")\n",
        "for i in range(len(texts)):\n",
        "  print(f\"\\nText {i+1}: {texts[i]}\")\n",
        "\n",
        "  row = X[i].toarray().flatten()\n",
        "\n",
        "  top3_idx = row.argsort()[-3:][::-1]\n",
        "\n",
        "  for idx in top3_idx:\n",
        "    print(f\" - {feature_names[idx]}: {row[idx]:.4f}\")"
      ],
      "metadata": {
        "colab": {
          "base_uri": "https://localhost:8080/"
        },
        "id": "qZRNJl4PRI3h",
        "outputId": "a9d5c65d-727c-4846-ebce-6469ee0abb35"
      },
      "execution_count": 17,
      "outputs": [
        {
          "output_type": "stream",
          "name": "stdout",
          "text": [
            "\n",
            " Top 3 Keywords by Tf-IDF for each text\n",
            "\n",
            "Text 1: Apple launches new iPhone with improved camera and battery life.\n",
            " - iphone: 0.3383\n",
            " - launches: 0.3383\n",
            " - life: 0.3383\n",
            "\n",
            "Text 2: Samsung unveils Galaxy with AI features and enhanced performance.\n",
            " - unveils: 0.3501\n",
            " - samsung: 0.3501\n",
            " - performance: 0.3501\n",
            "\n",
            "Text 3: Google introduces new tools for developers in its annual I/O event.\n",
            " - its: 0.3231\n",
            " - tools: 0.3231\n",
            " - for: 0.3231\n"
          ]
        }
      ]
    },
    {
      "cell_type": "code",
      "source": [
        "#Q4\n",
        "from sklearn.metrics.pairwise import cosine_similarity\n",
        "\n",
        "text_ai = \"Artificial Intelligence enables machines to mimic human decision-making.\"\n",
        "text_blockchain = \"Blockchain is a decentralized system for secure digital transactions.\"\n",
        "#1\n",
        "tokens_ai = set(word_tokenize(text_ai.lower())) - stop_words\n",
        "tokens_bc = set(word_tokenize(text_blockchain.lower())) - stop_words\n",
        "print(tokens_ai)\n",
        "print(tokens_bc)\n",
        "\n",
        "#2\n",
        "#(a)\n",
        "jaccard = len(tokens_ai & tokens_bc) / len(tokens_ai | tokens_bc)\n",
        "print(\"Jaccard Similarity:\", jaccard)\n",
        "#(b)\n",
        "vec = TfidfVectorizer()\n",
        "X = vec.fit_transform([text_ai, text_blockchain])\n",
        "cos_sim = cosine_similarity(X[0:1], X[1:2])[0][0]\n",
        "print(\"Cosine Similarity:\", cos_sim)\n",
        "#(c)\n",
        "print(\"Cosine similarity gives better insight into word significance than simple Jaccard overlap.\")\n",
        "\n",
        "\n"
      ],
      "metadata": {
        "colab": {
          "base_uri": "https://localhost:8080/"
        },
        "id": "vx4-0nggS9yU",
        "outputId": "cfafceb5-bd63-4289-f8f8-f92b22e0c22f"
      },
      "execution_count": 20,
      "outputs": [
        {
          "output_type": "stream",
          "name": "stdout",
          "text": [
            "{'.', 'human', 'enables', 'decision-making', 'artificial', 'intelligence', 'machines', 'mimic'}\n",
            "{'.', 'decentralized', 'digital', 'blockchain', 'secure', 'transactions', 'system'}\n",
            "Jaccard Similarity: 0.07142857142857142\n",
            "Cosine Similarity: 0.0\n",
            "Cosine similarity gives better insight into word significance than simple Jaccard overlap.\n"
          ]
        }
      ]
    },
    {
      "cell_type": "code",
      "source": [
        "#Q5\n",
        "from textblob import TextBlob\n",
        "review = \"Jojo Rabbit was an unexpectedly moving and creative film experience.\"\n",
        "#1\n",
        "blob = TextBlob(review)\n",
        "polarity = blob.sentiment.polarity\n",
        "print(\"Polarity:\", polarity)\n",
        "#2\n",
        "if polarity > 0:\n",
        "    sentiment = \"Positive\"\n",
        "elif polarity < 0:\n",
        "    sentiment = \"Negative\"\n",
        "else:\n",
        "    sentiment = \"Neutral\"\n",
        "\n",
        "print(\"Sentiment:\", sentiment)\n",
        "#3\n",
        "!pip install vaderSentiment\n",
        "from vaderSentiment.vaderSentiment import SentimentIntensityAnalyzer\n",
        "from textblob import TextBlob\n",
        "from vaderSentiment.vaderSentiment import SentimentIntensityAnalyzer\n",
        "import matplotlib.pyplot as plt\n",
        "from wordcloud import WordCloud\n",
        "\n",
        "\n",
        "reviews = [\n",
        "    \"Jojo Rabbit is a bold and emotional film.\",\n",
        "    \"It mixes satire with serious themes like war and identity.\",\n",
        "    \"The direction and performances bring humor and heart.\",\n",
        "    \"I didn't enjoy the film, it was too strange and unsettling.\",\n",
        "    \"The film's style is quirky and unique, which I appreciated.\",\n",
        "    \"Touching moments mixed with humor made it a memorable experience.\"\n",
        "]\n",
        "\n",
        "\n",
        "analyzer = SentimentIntensityAnalyzer()\n",
        "\n",
        "\n",
        "def classify(compound):\n",
        "    if compound >= 0.05:\n",
        "        print(\"Classification: Positive\")\n",
        "    elif compound <= -0.05:\n",
        "        print(\"Classification: Negative\")\n",
        "    else:\n",
        "        print(\"Classification: Neutral\")\n",
        "\n",
        "print(\"Sentiment Analysis Results:\\n\")\n",
        "for review in reviews:\n",
        "    blob = TextBlob(review)\n",
        "    print(\"Review:\", review)\n",
        "    print(\"Polarity:\", blob.sentiment.polarity)\n",
        "    print(\"Subjectivity:\", blob.sentiment.subjectivity)\n",
        "\n",
        "    sentiment = analyzer.polarity_scores(review)\n",
        "    print(\"Sentiment Scores:\", sentiment)\n",
        "    classify(sentiment['compound'])\n",
        "    print()\n",
        "\n",
        "\n",
        "positive = \"\"\n",
        "for review in reviews:\n",
        "    sentiment = analyzer.polarity_scores(review)\n",
        "    if sentiment['compound'] >= 0.5:\n",
        "        positive += \" \" + review\n",
        "\n",
        "wordcloud = WordCloud(width=800, height=400, background_color='white').generate(positive)\n",
        "\n",
        "plt.figure(figsize=(10, 5))\n",
        "plt.imshow(wordcloud, interpolation='bilinear')\n",
        "plt.axis('off')\n",
        "plt.title(\"Word Cloud of Positive Reviews\")\n",
        "plt.show()\n",
        "\n"
      ],
      "metadata": {
        "colab": {
          "base_uri": "https://localhost:8080/",
          "height": 1000
        },
        "id": "nud4bhpsVeHU",
        "outputId": "1e52e29f-32c6-490c-8a3e-b0f54bee8126"
      },
      "execution_count": 23,
      "outputs": [
        {
          "output_type": "stream",
          "name": "stdout",
          "text": [
            "Polarity: 0.3\n",
            "Sentiment: Positive\n",
            "Requirement already satisfied: vaderSentiment in /usr/local/lib/python3.11/dist-packages (3.3.2)\n",
            "Requirement already satisfied: requests in /usr/local/lib/python3.11/dist-packages (from vaderSentiment) (2.32.3)\n",
            "Requirement already satisfied: charset-normalizer<4,>=2 in /usr/local/lib/python3.11/dist-packages (from requests->vaderSentiment) (3.4.1)\n",
            "Requirement already satisfied: idna<4,>=2.5 in /usr/local/lib/python3.11/dist-packages (from requests->vaderSentiment) (3.10)\n",
            "Requirement already satisfied: urllib3<3,>=1.21.1 in /usr/local/lib/python3.11/dist-packages (from requests->vaderSentiment) (2.4.0)\n",
            "Requirement already satisfied: certifi>=2017.4.17 in /usr/local/lib/python3.11/dist-packages (from requests->vaderSentiment) (2025.4.26)\n",
            "Sentiment Analysis Results:\n",
            "\n",
            "Review: Jojo Rabbit is a bold and emotional film.\n",
            "Polarity: 0.16666666666666666\n",
            "Subjectivity: 0.6583333333333333\n",
            "Sentiment Scores: {'neg': 0.0, 'neu': 0.588, 'pos': 0.412, 'compound': 0.4939}\n",
            "Classification: Positive\n",
            "\n",
            "Review: It mixes satire with serious themes like war and identity.\n",
            "Polarity: -0.3333333333333333\n",
            "Subjectivity: 0.6666666666666666\n",
            "Sentiment Scores: {'neg': 0.354, 'neu': 0.476, 'pos': 0.17, 'compound': -0.4019}\n",
            "Classification: Negative\n",
            "\n",
            "Review: The direction and performances bring humor and heart.\n",
            "Polarity: 0.0\n",
            "Subjectivity: 0.0\n",
            "Sentiment Scores: {'neg': 0.0, 'neu': 0.488, 'pos': 0.512, 'compound': 0.743}\n",
            "Classification: Positive\n",
            "\n",
            "Review: I didn't enjoy the film, it was too strange and unsettling.\n",
            "Polarity: -0.04999999999999999\n",
            "Subjectivity: 0.45\n",
            "Sentiment Scores: {'neg': 0.33, 'neu': 0.67, 'pos': 0.0, 'compound': -0.5312}\n",
            "Classification: Negative\n",
            "\n",
            "Review: The film's style is quirky and unique, which I appreciated.\n",
            "Polarity: 0.19166666666666665\n",
            "Subjectivity: 0.7000000000000001\n",
            "Sentiment Scores: {'neg': 0.0, 'neu': 0.732, 'pos': 0.268, 'compound': 0.5106}\n",
            "Classification: Positive\n",
            "\n",
            "Review: Touching moments mixed with humor made it a memorable experience.\n",
            "Polarity: 0.3333333333333333\n",
            "Subjectivity: 0.5833333333333334\n",
            "Sentiment Scores: {'neg': 0.0, 'neu': 0.811, 'pos': 0.189, 'compound': 0.2732}\n",
            "Classification: Positive\n",
            "\n"
          ]
        },
        {
          "output_type": "display_data",
          "data": {
            "text/plain": [
              "<Figure size 1000x500 with 1 Axes>"
            ],
            "image/png": "[encoded data removed]"
          },
          "metadata": {}
        }
      ]
    },
    {
      "cell_type": "code",
      "source": [
        "#Q6\n",
        "#1\n",
        "from tensorflow.keras.preprocessing.text import Tokenizer\n",
        "from tensorflow.keras.preprocessing.sequence import pad_sequences\n",
        "from tensorflow.keras.models import Sequential\n",
        "from keras.layers import Embedding, LSTM, Dense\n",
        "import numpy as np\n",
        "\n",
        "\n",
        "data = [\n",
        "    \"Jojo Rabbit is a masterpiece of satire and heart.\",\n",
        "    \"The story unfolds through a child’s innocent eyes.\",\n",
        "    \"Humor and tragedy go hand in hand in the film.\",\n",
        "    \"Taika Waititi balances absurdity with emotional resonance.\",\n",
        "    \"The film critiques war and prejudice with creativity.\"\n",
        "]\n",
        "\n",
        "tokenizer = Tokenizer()\n",
        "tokenizer.fit_on_texts(data)\n",
        "sequences = []\n",
        "for line in data:\n",
        "    tokens = tokenizer.texts_to_sequences([line])[0]\n",
        "    for i in range(1, len(tokens)):\n",
        "        sequences.append(tokens[:i+1])\n",
        "\n",
        "\n",
        "maxlen = max(len(seq) for seq in sequences)\n",
        "sequences = pad_sequences(sequences, maxlen=maxlen, padding='pre')\n",
        "X, y = sequences[:, :-1], sequences[:, -1]\n",
        "\n",
        "#2\n",
        "vocab_size = len(tokenizer.word_index) + 1\n",
        "model = Sequential()\n",
        "model.add(Embedding(vocab_size, 10, input_length=maxlen-1))\n",
        "model.add(LSTM(50))\n",
        "model.add(Dense(vocab_size, activation='softmax'))\n",
        "model.compile(loss='sparse_categorical_crossentropy', optimizer='adam')\n",
        "model.fit(X, y, epochs=200, verbose=0)\n",
        "\n",
        "#3\n",
        "seed = \"jojo rabbit\"\n",
        "for _ in range(3):\n",
        "    token_seq = tokenizer.texts_to_sequences([seed])[0]\n",
        "    token_seq = pad_sequences([token_seq], maxlen=maxlen-1, padding='pre')\n",
        "    predicted = model.predict(token_seq, verbose=0)\n",
        "    output_word = tokenizer.index_word[np.argmax(predicted)]\n",
        "    seed += \" \" + output_word\n",
        "\n",
        "print(\"Generated Text:\", seed)\n",
        "\n"
      ],
      "metadata": {
        "colab": {
          "base_uri": "https://localhost:8080/"
        },
        "id": "SwwhkwyaWCE-",
        "outputId": "f19cdf44-aa0c-4dd6-fa1e-f5b00f30c735"
      },
      "execution_count": 24,
      "outputs": [
        {
          "output_type": "stream",
          "name": "stderr",
          "text": [
            "/usr/local/lib/python3.11/dist-packages/keras/src/layers/core/embedding.py:90: UserWarning: Argument `input_length` is deprecated. Just remove it.\n",
            "  warnings.warn(\n"
          ]
        },
        {
          "output_type": "stream",
          "name": "stdout",
          "text": [
            "Generated Text: jojo rabbit a a masterpiece\n"
          ]
        }
      ]
    }
  ]
}