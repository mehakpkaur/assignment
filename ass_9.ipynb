{
  "nbformat": 4,
  "nbformat_minor": 0,
  "metadata": {
    "colab": {
      "provenance": []
    },
    "kernelspec": {
      "name": "python3",
      "display_name": "Python 3"
    },
    "language_info": {
      "name": "python"
    }
  },
  "cells": [
    {
      "cell_type": "code",
      "execution_count": 2,
      "metadata": {
        "colab": {
          "base_uri": "https://localhost:8080/"
        },
        "id": "meD4q5rF7heI",
        "outputId": "196e48fd-0d46-4e7e-bc73-ae76e88fab22"
      },
      "outputs": [
        {
          "output_type": "stream",
          "name": "stdout",
          "text": [
            "Collecting nltk==3.8.1\n",
            "  Downloading nltk-3.8.1-py3-none-any.whl.metadata (2.8 kB)\n",
            "Requirement already satisfied: click in /usr/local/lib/python3.11/dist-packages (from nltk==3.8.1) (8.1.8)\n",
            "Requirement already satisfied: joblib in /usr/local/lib/python3.11/dist-packages (from nltk==3.8.1) (1.4.2)\n",
            "Requirement already satisfied: regex>=2021.8.3 in /usr/local/lib/python3.11/dist-packages (from nltk==3.8.1) (2024.11.6)\n",
            "Requirement already satisfied: tqdm in /usr/local/lib/python3.11/dist-packages (from nltk==3.8.1) (4.67.1)\n",
            "Downloading nltk-3.8.1-py3-none-any.whl (1.5 MB)\n",
            "\u001b[?25l   \u001b[90m━━━━━━━━━━━━━━━━━━━━━━━━━━━━━━━━━━━━━━━━\u001b[0m \u001b[32m0.0/1.5 MB\u001b[0m \u001b[31m?\u001b[0m eta \u001b[36m-:--:--\u001b[0m\r\u001b[2K   \u001b[91m━━━━━━━━━━━━━━━━━━━━━━━━━━━━━━━━━━━━\u001b[0m\u001b[91m╸\u001b[0m\u001b[90m━━━\u001b[0m \u001b[32m1.4/1.5 MB\u001b[0m \u001b[31m42.6 MB/s\u001b[0m eta \u001b[36m0:00:01\u001b[0m\r\u001b[2K   \u001b[90m━━━━━━━━━━━━━━━━━━━━━━━━━━━━━━━━━━━━━━━━\u001b[0m \u001b[32m1.5/1.5 MB\u001b[0m \u001b[31m26.8 MB/s\u001b[0m eta \u001b[36m0:00:00\u001b[0m\n",
            "\u001b[?25hInstalling collected packages: nltk\n",
            "  Attempting uninstall: nltk\n",
            "    Found existing installation: nltk 3.9.1\n",
            "    Uninstalling nltk-3.9.1:\n",
            "      Successfully uninstalled nltk-3.9.1\n",
            "\u001b[31mERROR: pip's dependency resolver does not currently take into account all the packages that are installed. This behaviour is the source of the following dependency conflicts.\n",
            "textblob 0.19.0 requires nltk>=3.9, but you have nltk 3.8.1 which is incompatible.\u001b[0m\u001b[31m\n",
            "\u001b[0mSuccessfully installed nltk-3.8.1\n"
          ]
        }
      ],
      "source": [
        "!pip install nltk==3.8.1"
      ]
    },
    {
      "cell_type": "code",
      "source": [
        "import nltk\n",
        "nltk.download('punkt')\n",
        "nltk.download('stopwords')"
      ],
      "metadata": {
        "colab": {
          "base_uri": "https://localhost:8080/"
        },
        "id": "GJA45CX8AY86",
        "outputId": "38f9c8d8-8598-4b8c-aea8-d3aa25a8085b"
      },
      "execution_count": 3,
      "outputs": [
        {
          "output_type": "stream",
          "name": "stderr",
          "text": [
            "[nltk_data] Downloading package punkt to /root/nltk_data...\n",
            "[nltk_data]   Unzipping tokenizers/punkt.zip.\n",
            "[nltk_data] Downloading package stopwords to /root/nltk_data...\n",
            "[nltk_data]   Unzipping corpora/stopwords.zip.\n"
          ]
        },
        {
          "output_type": "execute_result",
          "data": {
            "text/plain": [
              "True"
            ]
          },
          "metadata": {},
          "execution_count": 3
        }
      ]
    },
    {
      "cell_type": "code",
      "source": [
        "#Q1\n",
        "import nltk\n",
        "import string\n",
        "from nltk.corpus import stopwords\n",
        "from nltk.tokenize import word_tokenize, sent_tokenize\n",
        "from nltk.probability import FreqDist\n",
        "\n",
        "para = \"Technology is evolving faster than ever before. From smartphones to artificial intelligence, it shapes the way we live and work. Many people rely on technology for communication, learning, and entertainment. It offers convenience, but also raises concerns about privacy and over-dependence. Despite challenges, innovation continues to drive progress in every field. As technology grows, so does its impact on our daily lives.\"\n",
        "#1\n",
        "text = para.lower()\n",
        "print(text)\n",
        "\n",
        "table = str.maketrans('','',string.punctuation)\n",
        "ans = para.translate(table)\n",
        "print(ans)\n",
        "#2\n",
        "sentences = sent_tokenize(para)\n",
        "words = word_tokenize(para)\n",
        "print(sentences)\n",
        "print(words)\n",
        "#3\n",
        "stop_word = set(stopwords.words('english'))\n",
        "filtered_words = [word for word in words if word not in stop_word]\n",
        "print(filtered_words)\n",
        "#4\n",
        "freq_dist = FreqDist(filtered_words)\n",
        "print(freq_dist)"
      ],
      "metadata": {
        "colab": {
          "base_uri": "https://localhost:8080/"
        },
        "id": "Ay6lGjmXAqKc",
        "outputId": "2e26f9e4-f3c2-42ba-c604-4bed4ca06faa"
      },
      "execution_count": 16,
      "outputs": [
        {
          "output_type": "stream",
          "name": "stdout",
          "text": [
            "technology is evolving faster than ever before. from smartphones to artificial intelligence, it shapes the way we live and work. many people rely on technology for communication, learning, and entertainment. it offers convenience, but also raises concerns about privacy and over-dependence. despite challenges, innovation continues to drive progress in every field. as technology grows, so does its impact on our daily lives.\n",
            "Technology is evolving faster than ever before From smartphones to artificial intelligence it shapes the way we live and work Many people rely on technology for communication learning and entertainment It offers convenience but also raises concerns about privacy and overdependence Despite challenges innovation continues to drive progress in every field As technology grows so does its impact on our daily lives\n",
            "['Technology is evolving faster than ever before.', 'From smartphones to artificial intelligence, it shapes the way we live and work.', 'Many people rely on technology for communication, learning, and entertainment.', 'It offers convenience, but also raises concerns about privacy and over-dependence.', 'Despite challenges, innovation continues to drive progress in every field.', 'As technology grows, so does its impact on our daily lives.']\n",
            "['Technology', 'is', 'evolving', 'faster', 'than', 'ever', 'before', '.', 'From', 'smartphones', 'to', 'artificial', 'intelligence', ',', 'it', 'shapes', 'the', 'way', 'we', 'live', 'and', 'work', '.', 'Many', 'people', 'rely', 'on', 'technology', 'for', 'communication', ',', 'learning', ',', 'and', 'entertainment', '.', 'It', 'offers', 'convenience', ',', 'but', 'also', 'raises', 'concerns', 'about', 'privacy', 'and', 'over-dependence', '.', 'Despite', 'challenges', ',', 'innovation', 'continues', 'to', 'drive', 'progress', 'in', 'every', 'field', '.', 'As', 'technology', 'grows', ',', 'so', 'does', 'its', 'impact', 'on', 'our', 'daily', 'lives', '.']\n",
            "['Technology', 'evolving', 'faster', 'ever', '.', 'From', 'smartphones', 'artificial', 'intelligence', ',', 'shapes', 'way', 'live', 'work', '.', 'Many', 'people', 'rely', 'technology', 'communication', ',', 'learning', ',', 'entertainment', '.', 'It', 'offers', 'convenience', ',', 'also', 'raises', 'concerns', 'privacy', 'over-dependence', '.', 'Despite', 'challenges', ',', 'innovation', 'continues', 'drive', 'progress', 'every', 'field', '.', 'As', 'technology', 'grows', ',', 'impact', 'daily', 'lives', '.']\n",
            "<FreqDist with 42 samples and 53 outcomes>\n"
          ]
        }
      ]
    },
    {
      "cell_type": "code",
      "source": [
        "#Q2\n",
        "from nltk.stem import PorterStemmer, LancasterStemmer, WordNetLemmatizer\n",
        "nltk.download('wordnet')\n",
        "#1\n",
        "print(filtered_words)\n",
        "print(\"--------------------\")\n",
        "#2\n",
        "ps = PorterStemmer()\n",
        "for w in filtered_words:\n",
        "   print(w, \"->\", ps.stem(w))\n",
        "print(\"--------------------\")\n",
        "l_st = LancasterStemmer()\n",
        "for w in filtered_words:\n",
        "  print(w, \"->\", l_st.stem(w))\n",
        "print(\"--------------------\")\n",
        "#3\n",
        "ls = WordNetLemmatizer()\n",
        "lemmatized = [ls.lemmatize(w) for w in filtered_words]\n",
        "print(lemmatized)\n",
        "\n"
      ],
      "metadata": {
        "colab": {
          "base_uri": "https://localhost:8080/"
        },
        "id": "wlK_U7asF8yJ",
        "outputId": "d077b7d0-eafa-42ba-f014-12eaa286506b"
      },
      "execution_count": 30,
      "outputs": [
        {
          "output_type": "stream",
          "name": "stdout",
          "text": [
            "['Technology', 'evolving', 'faster', 'ever', '.', 'From', 'smartphones', 'artificial', 'intelligence', ',', 'shapes', 'way', 'live', 'work', '.', 'Many', 'people', 'rely', 'technology', 'communication', ',', 'learning', ',', 'entertainment', '.', 'It', 'offers', 'convenience', ',', 'also', 'raises', 'concerns', 'privacy', 'over-dependence', '.', 'Despite', 'challenges', ',', 'innovation', 'continues', 'drive', 'progress', 'every', 'field', '.', 'As', 'technology', 'grows', ',', 'impact', 'daily', 'lives', '.']\n",
            "--------------------\n",
            "Technology -> technolog\n",
            "evolving -> evolv\n",
            "faster -> faster\n",
            "ever -> ever\n",
            ". -> .\n",
            "From -> from\n",
            "smartphones -> smartphon\n",
            "artificial -> artifici\n",
            "intelligence -> intellig\n",
            ", -> ,\n",
            "shapes -> shape\n",
            "way -> way\n",
            "live -> live\n",
            "work -> work\n",
            ". -> .\n",
            "Many -> mani\n",
            "people -> peopl\n",
            "rely -> reli\n",
            "technology -> technolog\n",
            "communication -> commun\n",
            ", -> ,\n",
            "learning -> learn\n",
            ", -> ,\n",
            "entertainment -> entertain\n",
            ". -> .\n",
            "It -> it\n",
            "offers -> offer\n",
            "convenience -> conveni\n",
            ", -> ,\n",
            "also -> also\n",
            "raises -> rais\n",
            "concerns -> concern\n",
            "privacy -> privaci\n",
            "over-dependence -> over-depend\n",
            ". -> .\n",
            "Despite -> despit\n",
            "challenges -> challeng\n",
            ", -> ,\n",
            "innovation -> innov\n",
            "continues -> continu\n",
            "drive -> drive\n",
            "progress -> progress\n",
            "every -> everi\n",
            "field -> field\n",
            ". -> .\n",
            "As -> as\n",
            "technology -> technolog\n",
            "grows -> grow\n",
            ", -> ,\n",
            "impact -> impact\n",
            "daily -> daili\n",
            "lives -> live\n",
            ". -> .\n",
            "--------------------\n",
            "Technology -> technolog\n",
            "evolving -> evolv\n",
            "faster -> fast\n",
            "ever -> ev\n",
            ". -> .\n",
            "From -> from\n",
            "smartphones -> smartphon\n",
            "artificial -> art\n",
            "intelligence -> intellig\n",
            ", -> ,\n",
            "shapes -> shap\n",
            "way -> way\n",
            "live -> liv\n",
            "work -> work\n",
            ". -> .\n",
            "Many -> many\n",
            "people -> peopl\n",
            "rely -> rely\n",
            "technology -> technolog\n",
            "communication -> commun\n",
            ", -> ,\n",
            "learning -> learn\n",
            ", -> ,\n",
            "entertainment -> entertain\n",
            ". -> .\n",
            "It -> it\n",
            "offers -> off\n",
            "convenience -> conveny\n",
            ", -> ,\n",
            "also -> also\n",
            "raises -> rais\n",
            "concerns -> concern\n",
            "privacy -> priv\n",
            "over-dependence -> over-dependence\n",
            ". -> .\n",
            "Despite -> despit\n",
            "challenges -> challeng\n",
            ", -> ,\n",
            "innovation -> innov\n",
            "continues -> continu\n",
            "drive -> driv\n",
            "progress -> progress\n",
            "every -> every\n",
            "field -> field\n",
            ". -> .\n",
            "As -> as\n",
            "technology -> technolog\n",
            "grows -> grow\n",
            ", -> ,\n",
            "impact -> impact\n",
            "daily -> dai\n",
            "lives -> liv\n",
            ". -> .\n",
            "--------------------\n",
            "['Technology', 'evolving', 'faster', 'ever', '.', 'From', 'smartphones', 'artificial', 'intelligence', ',', 'shape', 'way', 'live', 'work', '.', 'Many', 'people', 'rely', 'technology', 'communication', ',', 'learning', ',', 'entertainment', '.', 'It', 'offer', 'convenience', ',', 'also', 'raise', 'concern', 'privacy', 'over-dependence', '.', 'Despite', 'challenge', ',', 'innovation', 'continues', 'drive', 'progress', 'every', 'field', '.', 'As', 'technology', 'grows', ',', 'impact', 'daily', 'life', '.']\n"
          ]
        },
        {
          "output_type": "stream",
          "name": "stderr",
          "text": [
            "[nltk_data] Downloading package wordnet to /root/nltk_data...\n",
            "[nltk_data]   Package wordnet is already up-to-date!\n"
          ]
        }
      ]
    },
    {
      "cell_type": "code",
      "source": [
        "#Q3\n",
        "import re\n",
        "#1\n",
        "para = \"Technology is evolving faster than ever before. From smartphones to artificial intelligence, it shapes the way we live and work. Many people rely on technology for communication, learning, and entertainment. It offers convenience, but also raises concerns about privacy and over-dependence. Despite challenges, innovation continues to drive progress in every field. As technology grows, so does its impact on our daily lives.\"\n",
        "print(para)\n",
        "#2\n",
        "#(a)\n",
        "print(re.findall(r'\\b\\w{6,}\\b',para))\n",
        "#(b)\n",
        "print(re.findall(r'\\d+',para))\n",
        "#(c)\n",
        "print(re.findall(r'\\b[A-z][a-z]*\\b',para))\n",
        "#3\n",
        "#(a)\n",
        "print(re.findall(r'\\b[a-zA-Z]+\\b',para))\n",
        "#(b)\n",
        "print(re.findall(r'\\b[aeiouAEIOU][a-zA-Z]*\\b',para))"
      ],
      "metadata": {
        "colab": {
          "base_uri": "https://localhost:8080/"
        },
        "id": "qEEUn54eKUyk",
        "outputId": "48969575-ab37-4a6a-aa66-0290467ae2a0"
      },
      "execution_count": 26,
      "outputs": [
        {
          "output_type": "stream",
          "name": "stdout",
          "text": [
            "Technology is evolving faster than ever before. From smartphones to artificial intelligence, it shapes the way we live and work. Many people rely on technology for communication, learning, and entertainment. It offers convenience, but also raises concerns about privacy and over-dependence. Despite challenges, innovation continues to drive progress in every field. As technology grows, so does its impact on our daily lives.\n",
            "['Technology', 'evolving', 'faster', 'before', 'smartphones', 'artificial', 'intelligence', 'shapes', 'people', 'technology', 'communication', 'learning', 'entertainment', 'offers', 'convenience', 'raises', 'concerns', 'privacy', 'dependence', 'Despite', 'challenges', 'innovation', 'continues', 'progress', 'technology', 'impact']\n",
            "[]\n",
            "['Technology', 'is', 'evolving', 'faster', 'than', 'ever', 'before', 'From', 'smartphones', 'to', 'artificial', 'intelligence', 'it', 'shapes', 'the', 'way', 'we', 'live', 'and', 'work', 'Many', 'people', 'rely', 'on', 'technology', 'for', 'communication', 'learning', 'and', 'entertainment', 'It', 'offers', 'convenience', 'but', 'also', 'raises', 'concerns', 'about', 'privacy', 'and', 'over', 'dependence', 'Despite', 'challenges', 'innovation', 'continues', 'to', 'drive', 'progress', 'in', 'every', 'field', 'As', 'technology', 'grows', 'so', 'does', 'its', 'impact', 'on', 'our', 'daily', 'lives']\n",
            "['Technology', 'is', 'evolving', 'faster', 'than', 'ever', 'before', 'From', 'smartphones', 'to', 'artificial', 'intelligence', 'it', 'shapes', 'the', 'way', 'we', 'live', 'and', 'work', 'Many', 'people', 'rely', 'on', 'technology', 'for', 'communication', 'learning', 'and', 'entertainment', 'It', 'offers', 'convenience', 'but', 'also', 'raises', 'concerns', 'about', 'privacy', 'and', 'over', 'dependence', 'Despite', 'challenges', 'innovation', 'continues', 'to', 'drive', 'progress', 'in', 'every', 'field', 'As', 'technology', 'grows', 'so', 'does', 'its', 'impact', 'on', 'our', 'daily', 'lives']\n",
            "['is', 'evolving', 'ever', 'artificial', 'intelligence', 'it', 'and', 'on', 'and', 'entertainment', 'It', 'offers', 'also', 'about', 'and', 'over', 'innovation', 'in', 'every', 'As', 'its', 'impact', 'on', 'our']\n"
          ]
        }
      ]
    },
    {
      "cell_type": "code",
      "source": [
        "#Q4\n",
        "import re\n",
        "#1\n",
        "para = \"Technology is evolving faster than ever before. From smartphones to artificial intelligence, it shapes the way we live and work. Many people rely on technology for communication, learning, and entertainment. It offers convenience, but also raises concerns about privacy and over-dependence. Despite challenges, innovation continues to drive progress in every field. As technology grows, so does its impact on our daily lives.\"\n",
        "#2\n",
        "def custom_tokenize(para):\n",
        "    pattern = r' \\b\\w+(?:-\\w+)+\\b|\\b\\d+\\.\\d+\\b|\\b\\w+\\w+\\b|\\b\\w+\\b|\\b\\d+\\b'\n",
        "    tokens = re.findall(pattern, para, flags=re.VERBOSE)\n",
        "    return tokens\n",
        "tokens = custom_tokenize(para)\n",
        "print(tokens)\n",
        "#3\n",
        "text = \"Contact us at support@example.com or visit our website at https://example.com. For urgent queries, call 123-456-7890 or +91 9876543210.\"\n",
        "print(text)\n",
        "def clean_text(text):\n",
        "     text = re.sub(r'\\b[\\w.-]+?@\\w+?\\.\\w+?\\b','<EMAIL>', text)\n",
        "     text = re.sub(r'https://\\S+|www\\.\\S+','<URL>', text)\n",
        "     text = re.sub(r'(\\+91\\s\\d{10}|\\d{3}-\\d{3}-\\d{4})','<PHONE>', text)\n",
        "     return text\n",
        "ans = clean_text(text)\n",
        "print(ans)"
      ],
      "metadata": {
        "colab": {
          "base_uri": "https://localhost:8080/"
        },
        "id": "pSbg765iR9gh",
        "outputId": "34f2479d-62a4-4acb-c5f9-9abb7a7bc1e0"
      },
      "execution_count": 36,
      "outputs": [
        {
          "output_type": "stream",
          "name": "stdout",
          "text": [
            "['Technology', 'is', 'evolving', 'faster', 'than', 'ever', 'before', 'From', 'smartphones', 'to', 'artificial', 'intelligence', 'it', 'shapes', 'the', 'way', 'we', 'live', 'and', 'work', 'Many', 'people', 'rely', 'on', 'technology', 'for', 'communication', 'learning', 'and', 'entertainment', 'It', 'offers', 'convenience', 'but', 'also', 'raises', 'concerns', 'about', 'privacy', 'and', 'over-dependence', 'Despite', 'challenges', 'innovation', 'continues', 'to', 'drive', 'progress', 'in', 'every', 'field', 'As', 'technology', 'grows', 'so', 'does', 'its', 'impact', 'on', 'our', 'daily', 'lives']\n",
            "Contact us at support@example.com or visit our website at https://example.com. For urgent queries, call 123-456-7890 or +91 9876543210.\n",
            "Contact us at <EMAIL> or visit our website at <URL> For urgent queries, call <PHONE> or <PHONE>.\n"
          ]
        }
      ]
    }
  ]
}