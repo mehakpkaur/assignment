{
  "nbformat": 4,
  "nbformat_minor": 0,
  "metadata": {
    "colab": {
      "provenance": []
    },
    "kernelspec": {
      "name": "python3",
      "display_name": "Python 3"
    },
    "language_info": {
      "name": "python"
    }
  },
  "cells": [
    {
      "cell_type": "code",
      "source": [
        "l=[10,20,30,40,50,70,80]\n",
        "l.append(200)\n",
        "print(l)\n",
        "l.append(300)\n",
        "print(l)\n",
        "l.pop(0)\n",
        "print(l)\n",
        "l.pop(2)\n",
        "print(l)\n",
        "l.sort()\n",
        "print(l)\n",
        "l.sort(reverse = True)\n",
        "print(l)"
      ],
      "metadata": {
        "id": "yE5h7QyXzrbe"
      },
      "execution_count": null,
      "outputs": []
    },
    {
      "cell_type": "code",
      "source": [
        "tup=(45,89.5,76,45.4,89,92,58,45)\n",
        "a= max(tup)\n",
        "print(a)\n",
        "i=tup.index(a)\n",
        "print(i)\n",
        "#(ii)\n",
        "lowest=min(tup)\n",
        "print(lowest)\n",
        "count=tup.count(lowest)\n",
        "print(count)\n",
        "#(iii)\n",
        "print(list(tup[::-1]))\n",
        "#(iv)\n",
        "li=input(\"enter the score:- \")\n",
        "li=float(li)\n",
        "def check_score(tup,li):\n",
        "    if li in tup:\n",
        "        index1=tup.index(li)\n",
        "        print(f\"{li} is present in the score at indexno. {index1}\")\n",
        "    else:\n",
        "         print(f\"{li} is not present in the given list of scores\")\n",
        "check_score(tup, li)"
      ],
      "metadata": {
        "colab": {
          "base_uri": "https://localhost:8080/"
        },
        "id": "vnf4VWMm4rS9",
        "outputId": "23bc0be2-ec4c-48f6-fa78-717e6398140a"
      },
      "execution_count": null,
      "outputs": [
        {
          "output_type": "stream",
          "name": "stdout",
          "text": [
            "92\n",
            "5\n",
            "45\n",
            "2\n",
            "[45, 58, 92, 89, 45.4, 76, 89.5, 45]\n",
            "enter the score:- 76\n",
            "(11) is present in the score at indexno. 2\n"
          ]
        }
      ]
    },
    {
      "cell_type": "code",
      "source": [
        "import random\n",
        "\n",
        "def is_prime(num):\n",
        "    if num < 2:\n",
        "        return False\n",
        "    for i in range(2, int(num**0.5) + 1):\n",
        "        if num % i == 0:\n",
        "            return False\n",
        "    return True\n",
        "\n",
        "\n",
        "random_numbers = [random.randint(100, 900) for _ in range(100)]\n",
        "\n",
        "# Separate numbers into odd, even, and prime\n",
        "odd_numbers = [num for num in random_numbers if num % 2 != 0]\n",
        "even_numbers = [num for num in random_numbers if num % 2 == 0]\n",
        "prime_numbers = [num for num in random_numbers if is_prime(num)]\n",
        "\n",
        "# Print the results\n",
        "print(\"Generated Numbers:\", random_numbers)\n",
        "print(\"\\nAnalysis:\")\n",
        "print(f\"Odd numbers ({len(odd_numbers)}): {odd_numbers}\")\n",
        "print(f\"Even numbers ({len(even_numbers)}): {even_numbers}\")\n",
        "print(f\"Prime numbers ({len(prime_numbers)}): {prime_numbers}\")"
      ],
      "metadata": {
        "colab": {
          "base_uri": "https://localhost:8080/"
        },
        "id": "dINqrTyl6kXy",
        "outputId": "e41c76d8-7bfa-481d-c812-597962d1a852"
      },
      "execution_count": null,
      "outputs": [
        {
          "output_type": "stream",
          "name": "stdout",
          "text": [
            "Generated Numbers: [610, 310, 889, 775, 140, 677, 447, 138, 546, 731, 354, 826, 411, 182, 296, 531, 271, 771, 877, 107, 593, 861, 106, 103, 799, 837, 397, 433, 654, 832, 268, 811, 633, 552, 785, 796, 242, 572, 362, 745, 687, 799, 682, 874, 435, 696, 315, 340, 824, 436, 482, 743, 293, 238, 808, 678, 592, 471, 173, 205, 669, 703, 282, 245, 615, 136, 111, 367, 273, 112, 724, 155, 751, 396, 736, 692, 176, 265, 272, 245, 179, 900, 477, 808, 567, 550, 851, 229, 697, 502, 795, 536, 884, 571, 674, 678, 480, 284, 292, 473]\n",
            "\n",
            "Analysis:\n",
            "Odd numbers (51): [889, 775, 677, 447, 731, 411, 531, 271, 771, 877, 107, 593, 861, 103, 799, 837, 397, 433, 811, 633, 785, 745, 687, 799, 435, 315, 743, 293, 471, 173, 205, 669, 703, 245, 615, 111, 367, 273, 155, 751, 265, 245, 179, 477, 567, 851, 229, 697, 795, 571, 473]\n",
            "Even numbers (49): [610, 310, 140, 138, 546, 354, 826, 182, 296, 106, 654, 832, 268, 552, 796, 242, 572, 362, 682, 874, 696, 340, 824, 436, 482, 238, 808, 678, 592, 282, 136, 112, 724, 396, 736, 692, 176, 272, 900, 808, 550, 502, 536, 884, 674, 678, 480, 284, 292]\n",
            "Prime numbers (17): [677, 271, 877, 107, 593, 103, 397, 433, 811, 743, 293, 173, 367, 751, 179, 229, 571]\n"
          ]
        }
      ]
    },
    {
      "cell_type": "code",
      "source": [
        "A={34,56,78,90}\n",
        "B={78,45,90,23}\n",
        "unique_scores = A.union(B)\n",
        "print(unique_scores)\n",
        "common = A.intersection(B)\n",
        "print(common)\n",
        "exclusive1 = A.symmetric_difference(B)\n",
        "print(exclusive1)\n",
        "is_a_subset = A.issubset(B)\n",
        "is_a_superset = A.issuperset(B)\n",
        "print(is_a_subset)\n",
        "print(is_a_superset)\n",
        "a =int(input(\"enter the scire to be removed from A\"))\n",
        "if a in A:\n",
        "  A.remove(a)\n",
        "  print(f\"score {a} has been removed from A\")\n",
        "else:\n",
        "  print(f\"score {a} is not present in set A\")\n",
        "print(\"updated set A : \",A)\n",
        "\n",
        "\n"
      ],
      "metadata": {
        "colab": {
          "base_uri": "https://localhost:8080/"
        },
        "id": "duxUvLoaq1Zy",
        "outputId": "c1ddb40c-ce38-4d56-a56b-7951689e9ba2"
      },
      "execution_count": null,
      "outputs": [
        {
          "output_type": "stream",
          "name": "stdout",
          "text": [
            "{34, 45, 78, 23, 56, 90}\n",
            "{90, 78}\n",
            "{34, 45, 23, 56}\n",
            "False\n",
            "False\n",
            "enter the scire to be removed from A90\n",
            "score90 has been removed from A\n",
            "updated set A :  {56, 34, 78}\n"
          ]
        }
      ]
    },
    {
      "cell_type": "code",
      "source": [
        "sample_dict ={\n",
        "    \"name\": \"kelly\",\n",
        "    \"age\": 25,\n",
        "    \"salary\": 8000,\n",
        "    \"city\": \"new york\"\n",
        "}\n",
        "sample_dict[\"city\"] = \"ferozepur\"\n",
        "print(sample_dict)"
      ],
      "metadata": {
        "colab": {
          "base_uri": "https://localhost:8080/"
        },
        "id": "7Ghqy35SyB7K",
        "outputId": "7463a426-5543-4ba0-ca1e-cadc476dc5fb"
      },
      "execution_count": null,
      "outputs": [
        {
          "output_type": "stream",
          "name": "stdout",
          "text": [
            "{'name': 'kelly', 'age': 25, 'salary': 8000, 'city': 'ferozepur'}\n"
          ]
        }
      ]
    },
    {
      "cell_type": "code",
      "source": [],
      "metadata": {
        "id": "D-V6PRDYeqUe"
      },
      "execution_count": null,
      "outputs": []
    }
  ]
}