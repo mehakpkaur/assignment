{
  "nbformat": 4,
  "nbformat_minor": 0,
  "metadata": {
    "colab": {
      "provenance": [],
      "authorship_tag": "ABX9TyMGM7AdkT8nWeeykdsvT+Xx",
      "include_colab_link": true
    },
    "kernelspec": {
      "name": "python3",
      "display_name": "Python 3"
    },
    "language_info": {
      "name": "python"
    }
  },
  "cells": [
    {
      "cell_type": "markdown",
      "metadata": {
        "id": "view-in-github",
        "colab_type": "text"
      },
      "source": [
        "<a href=\"https://colab.research.google.com/github/mehakpkaur/assignment/blob/main/assignment_4.ipynb\" target=\"_parent\"><img src=\"https://colab.research.google.com/assets/colab-badge.svg\" alt=\"Open In Colab\"/></a>"
      ]
    },
    {
      "cell_type": "code",
      "execution_count": 2,
      "metadata": {
        "colab": {
          "base_uri": "https://localhost:8080/"
        },
        "id": "8k08-1xz9Mwt",
        "outputId": "bf4b5881-cbe8-404a-8336-b12763629a58"
      },
      "outputs": [
        {
          "output_type": "stream",
          "name": "stdout",
          "text": [
            "addition :  [12 22 32 42 52]\n",
            "multiplication :  [ 30  60  90 120 150]\n",
            "division :  [ 5. 10. 15. 20. 25.]\n"
          ]
        }
      ],
      "source": [
        "import numpy as np\n",
        "arr = np.array([10,20,30,40,50])\n",
        "add = arr+2\n",
        "print(\"addition : \", add)\n",
        "multiply = arr*3\n",
        "print(\"multiplication : \", multiply)\n",
        "divide = arr/2\n",
        "print(\"division : \", divide)"
      ]
    },
    {
      "cell_type": "code",
      "source": [
        "import numpy as np\n",
        "arr = np.array([1,2,3,4,5])\n",
        "r= np.flip(arr)\n",
        "print(r)\n",
        "\n",
        "x = np.array([1,2,3,4,5,1,2,1,1,1])\n",
        "mfrequent  = np.bincount(x).argmax()\n",
        "print(mfrequent)\n",
        "\n",
        "y = np.array([1,1,1,2,3,4,2,4,3,3])\n",
        "m_yfrequent = np.bincount(y).argmax()\n",
        "print(m_yfrequent)\n"
      ],
      "metadata": {
        "colab": {
          "base_uri": "https://localhost:8080/"
        },
        "id": "DeFxoUkZ9-ux",
        "outputId": "ded9cce4-1399-464e-c191-b816cc1ea8b1"
      },
      "execution_count": 10,
      "outputs": [
        {
          "output_type": "stream",
          "name": "stdout",
          "text": [
            "[5 4 3 2 1]\n",
            "1\n",
            "1\n"
          ]
        }
      ]
    },
    {
      "cell_type": "code",
      "source": [
        "import numpy as np\n",
        "arr = np.array([[10,20,30],[40,50,60],[70,80,90]])\n",
        "print(arr[0][1])\n",
        "print(arr[2][0])"
      ],
      "metadata": {
        "colab": {
          "base_uri": "https://localhost:8080/"
        },
        "id": "C6_Y24JhAZx9",
        "outputId": "04c95567-1ab5-48d9-f960-3fae9af13c27"
      },
      "execution_count": 12,
      "outputs": [
        {
          "output_type": "stream",
          "name": "stdout",
          "text": [
            "20\n",
            "70\n"
          ]
        }
      ]
    },
    {
      "cell_type": "code",
      "source": [
        "import numpy as np\n",
        "mehak = np.linspace(10,100, num = 25)\n",
        "print(mehak)\n",
        "#\n",
        "print(\"dimensions :\", mehak.ndim)\n",
        "print(\"shape :\", mehak.shape)\n",
        "print(\"total elements :\", mehak.size)\n",
        "print(\"data type :\", mehak.dtype)\n",
        "print(\"total bytes :\",mehak.nbytes)\n",
        "#transpose\n",
        "transpose_arr = mehak.reshape(25,1)\n",
        "print(transpose_arr)\n",
        "#no we can't do the same with T attribute\n"
      ],
      "metadata": {
        "colab": {
          "base_uri": "https://localhost:8080/"
        },
        "id": "b6Ei9q_1DGJK",
        "outputId": "49696317-569f-45d9-99ca-6788b952dc53"
      },
      "execution_count": 17,
      "outputs": [
        {
          "output_type": "stream",
          "name": "stdout",
          "text": [
            "[ 10.    13.75  17.5   21.25  25.    28.75  32.5   36.25  40.    43.75\n",
            "  47.5   51.25  55.    58.75  62.5   66.25  70.    73.75  77.5   81.25\n",
            "  85.    88.75  92.5   96.25 100.  ]\n",
            "dimensions : 1\n",
            "shape : (25,)\n",
            "total elements : 25\n",
            "data type : float64\n",
            "total bytes : 200\n",
            "[[ 10.  ]\n",
            " [ 13.75]\n",
            " [ 17.5 ]\n",
            " [ 21.25]\n",
            " [ 25.  ]\n",
            " [ 28.75]\n",
            " [ 32.5 ]\n",
            " [ 36.25]\n",
            " [ 40.  ]\n",
            " [ 43.75]\n",
            " [ 47.5 ]\n",
            " [ 51.25]\n",
            " [ 55.  ]\n",
            " [ 58.75]\n",
            " [ 62.5 ]\n",
            " [ 66.25]\n",
            " [ 70.  ]\n",
            " [ 73.75]\n",
            " [ 77.5 ]\n",
            " [ 81.25]\n",
            " [ 85.  ]\n",
            " [ 88.75]\n",
            " [ 92.5 ]\n",
            " [ 96.25]\n",
            " [100.  ]]\n"
          ]
        }
      ]
    },
    {
      "cell_type": "code",
      "source": [
        "import numpy as np\n",
        "ucs420_mehak = np.array([[10,20,30,40],[50,60,70,80],[90,15,20,35]])\n",
        "print(\"mean: \",np.mean(ucs420_mehak))\n",
        "print(\"median :\",np.median(ucs420_mehak))\n",
        "print(\"maximum :\",np.max(ucs420_mehak))\n",
        "print(\"minimum :\",np.min(ucs420_mehak))\n",
        "print(\"unique elements:\",np.unique(ucs420_mehak))\n",
        "reshaped_ucs420_mehak = ucs420_mehak.reshape(4,3)\n",
        "print(reshaped_ucs420_mehak)\n",
        "resized_ucs420_mehak = ucs420_mehak.resize(2,3,refcheck = False)\n",
        "print(resized_ucs420_mehak)"
      ],
      "metadata": {
        "colab": {
          "base_uri": "https://localhost:8080/"
        },
        "id": "c5ZQYeFsFxWW",
        "outputId": "01636e31-4b23-45cc-98a7-1f07eb62fd16"
      },
      "execution_count": 29,
      "outputs": [
        {
          "output_type": "stream",
          "name": "stdout",
          "text": [
            "mean:  43.333333333333336\n",
            "median : 37.5\n",
            "maximum : 90\n",
            "minimum : 10\n",
            "unique elements: [10 15 20 30 35 40 50 60 70 80 90]\n",
            "[[10 20 30]\n",
            " [40 50 60]\n",
            " [70 80 90]\n",
            " [15 20 35]]\n",
            "None\n"
          ]
        }
      ]
    }
  ]
}